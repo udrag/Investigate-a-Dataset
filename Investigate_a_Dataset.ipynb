{
 "cells": [
  {
   "cell_type": "markdown",
   "metadata": {},
   "source": [
    "<a id='contents'></a>\n",
    "# Project: Investigate a Dataset - Medical Appointment No Shows\n",
    "\n",
    "## Table of Contents\n",
    "<ul>\n",
    "<li><a href=\"#intro\">Introduction</a></li>\n",
    "<li><a href=\"#wrangling\">Data Wrangling</a></li>\n",
    "<li><a href=\"#eda\">Exploratory Data Analysis</a></li>\n",
    "<li><a href=\"#question 1\">Research Question 1</a></li>\n",
    "<li><a href=\"#question 2\">Research Question 2</a></li>\n",
    "<li><a href=\"#conclusions\">Conclusions</a></li>\n",
    "<li><a href=\"#limitations\">Limitations</a></li>\n",
    "<li><a href=\"#manythanks\">Acknowledgement</a></li>    \n",
    "</ul>"
   ]
  },
  {
   "cell_type": "markdown",
   "metadata": {},
   "source": [
    "<div style=\"text-align: right\">\n",
    "    <ul>\n",
    "    <a href=\"#contents\">Back to Table of Contents </a>\n",
    "    </ul>\n",
    "</div>\n",
    "\n",
    "<a id='intro'></a>\n",
    "## Introduction\n",
    "\n",
    "### Dataset Description \n",
    "\n",
    "The current dataset contains patient information at various clinics in the neighbourhoods of the State of Espirito Santo, Brazil. \n",
    "\n",
    "There are 110527 entries with information for 110527 different appointments. The information is mainly based on patient characteristics grouped into 14 columns as follows:\n",
    "1. Patient ID\n",
    "2. Appointment ID\n",
    "3. Gender\n",
    "4. Scheduled Day\n",
    "5. Appointment Day\n",
    "6. Age\n",
    "7. Neighbourhood\n",
    "8. Scholarship\n",
    "9. Hypertension\n",
    "10. Diabetes\n",
    "11. Alcoholism\n",
    "12. Handicap\n",
    "13. SMS received\n",
    "14. Attended\n",
    "\n",
    "\n",
    "### Question(s) for Analysis\n",
    "\n",
    "In this project, the main goal is to explore what factors are of importance when trying to predict the attendance rate. The analysis will be directed toward answering the following questions:\n",
    "\n",
    "1. How the characteristics associated with those who attended the appointment and who didn't compare?\n",
    "2. What are the factors that influence the clinics in the neighbourhoods with a high attendance rate?"
   ]
  },
  {
   "cell_type": "code",
   "execution_count": 1,
   "metadata": {},
   "outputs": [],
   "source": [
    "# Import relevant libraries\n",
    "import pandas as pd\n",
    "import numpy as np\n",
    "import matplotlib.pyplot as plt\n",
    "import matplotlib.patheffects as pe\n",
    "from datetime import datetime, timezone # This has been added following the reviewer's note (Many thanks!)\n",
    "%matplotlib inline\n",
    "import seaborn as sns\n",
    "sns.set_style('darkgrid')\n"
   ]
  },
  {
   "cell_type": "markdown",
   "metadata": {},
   "source": [
    "<div style=\"text-align: right\">\n",
    "    <ul>\n",
    "    <a href=\"#contents\">Back to Table of Contents </a>\n",
    "    </ul>\n",
    "</div>\n",
    "\n",
    "<a id='wrangling'></a>\n",
    "\n",
    "## Data Wrangling\n",
    "\n",
    "\n",
    "### General Properties\n",
    "We will start the data wrangling by exploring the csv data. This will be of help to us in order to identify further steps for data cleaning stage."
   ]
  },
  {
   "cell_type": "code",
   "execution_count": 2,
   "metadata": {},
   "outputs": [
    {
     "data": {
      "text/html": [
       "<div>\n",
       "<style scoped>\n",
       "    .dataframe tbody tr th:only-of-type {\n",
       "        vertical-align: middle;\n",
       "    }\n",
       "\n",
       "    .dataframe tbody tr th {\n",
       "        vertical-align: top;\n",
       "    }\n",
       "\n",
       "    .dataframe thead th {\n",
       "        text-align: right;\n",
       "    }\n",
       "</style>\n",
       "<table border=\"1\" class=\"dataframe\">\n",
       "  <thead>\n",
       "    <tr style=\"text-align: right;\">\n",
       "      <th></th>\n",
       "      <th>PatientId</th>\n",
       "      <th>AppointmentID</th>\n",
       "      <th>Gender</th>\n",
       "      <th>ScheduledDay</th>\n",
       "      <th>AppointmentDay</th>\n",
       "      <th>Age</th>\n",
       "      <th>Neighbourhood</th>\n",
       "      <th>Scholarship</th>\n",
       "      <th>Hipertension</th>\n",
       "      <th>Diabetes</th>\n",
       "      <th>Alcoholism</th>\n",
       "      <th>Handcap</th>\n",
       "      <th>SMS_received</th>\n",
       "      <th>No-show</th>\n",
       "    </tr>\n",
       "  </thead>\n",
       "  <tbody>\n",
       "    <tr>\n",
       "      <th>0</th>\n",
       "      <td>2.987250e+13</td>\n",
       "      <td>5642903</td>\n",
       "      <td>F</td>\n",
       "      <td>2016-04-29T18:38:08Z</td>\n",
       "      <td>2016-04-29T00:00:00Z</td>\n",
       "      <td>62</td>\n",
       "      <td>JARDIM DA PENHA</td>\n",
       "      <td>0</td>\n",
       "      <td>1</td>\n",
       "      <td>0</td>\n",
       "      <td>0</td>\n",
       "      <td>0</td>\n",
       "      <td>0</td>\n",
       "      <td>No</td>\n",
       "    </tr>\n",
       "    <tr>\n",
       "      <th>1</th>\n",
       "      <td>5.589978e+14</td>\n",
       "      <td>5642503</td>\n",
       "      <td>M</td>\n",
       "      <td>2016-04-29T16:08:27Z</td>\n",
       "      <td>2016-04-29T00:00:00Z</td>\n",
       "      <td>56</td>\n",
       "      <td>JARDIM DA PENHA</td>\n",
       "      <td>0</td>\n",
       "      <td>0</td>\n",
       "      <td>0</td>\n",
       "      <td>0</td>\n",
       "      <td>0</td>\n",
       "      <td>0</td>\n",
       "      <td>No</td>\n",
       "    </tr>\n",
       "    <tr>\n",
       "      <th>2</th>\n",
       "      <td>4.262962e+12</td>\n",
       "      <td>5642549</td>\n",
       "      <td>F</td>\n",
       "      <td>2016-04-29T16:19:04Z</td>\n",
       "      <td>2016-04-29T00:00:00Z</td>\n",
       "      <td>62</td>\n",
       "      <td>MATA DA PRAIA</td>\n",
       "      <td>0</td>\n",
       "      <td>0</td>\n",
       "      <td>0</td>\n",
       "      <td>0</td>\n",
       "      <td>0</td>\n",
       "      <td>0</td>\n",
       "      <td>No</td>\n",
       "    </tr>\n",
       "    <tr>\n",
       "      <th>3</th>\n",
       "      <td>8.679512e+11</td>\n",
       "      <td>5642828</td>\n",
       "      <td>F</td>\n",
       "      <td>2016-04-29T17:29:31Z</td>\n",
       "      <td>2016-04-29T00:00:00Z</td>\n",
       "      <td>8</td>\n",
       "      <td>PONTAL DE CAMBURI</td>\n",
       "      <td>0</td>\n",
       "      <td>0</td>\n",
       "      <td>0</td>\n",
       "      <td>0</td>\n",
       "      <td>0</td>\n",
       "      <td>0</td>\n",
       "      <td>No</td>\n",
       "    </tr>\n",
       "    <tr>\n",
       "      <th>4</th>\n",
       "      <td>8.841186e+12</td>\n",
       "      <td>5642494</td>\n",
       "      <td>F</td>\n",
       "      <td>2016-04-29T16:07:23Z</td>\n",
       "      <td>2016-04-29T00:00:00Z</td>\n",
       "      <td>56</td>\n",
       "      <td>JARDIM DA PENHA</td>\n",
       "      <td>0</td>\n",
       "      <td>1</td>\n",
       "      <td>1</td>\n",
       "      <td>0</td>\n",
       "      <td>0</td>\n",
       "      <td>0</td>\n",
       "      <td>No</td>\n",
       "    </tr>\n",
       "  </tbody>\n",
       "</table>\n",
       "</div>"
      ],
      "text/plain": [
       "      PatientId  AppointmentID Gender          ScheduledDay  \\\n",
       "0  2.987250e+13        5642903      F  2016-04-29T18:38:08Z   \n",
       "1  5.589978e+14        5642503      M  2016-04-29T16:08:27Z   \n",
       "2  4.262962e+12        5642549      F  2016-04-29T16:19:04Z   \n",
       "3  8.679512e+11        5642828      F  2016-04-29T17:29:31Z   \n",
       "4  8.841186e+12        5642494      F  2016-04-29T16:07:23Z   \n",
       "\n",
       "         AppointmentDay  Age      Neighbourhood  Scholarship  Hipertension  \\\n",
       "0  2016-04-29T00:00:00Z   62    JARDIM DA PENHA            0             1   \n",
       "1  2016-04-29T00:00:00Z   56    JARDIM DA PENHA            0             0   \n",
       "2  2016-04-29T00:00:00Z   62      MATA DA PRAIA            0             0   \n",
       "3  2016-04-29T00:00:00Z    8  PONTAL DE CAMBURI            0             0   \n",
       "4  2016-04-29T00:00:00Z   56    JARDIM DA PENHA            0             1   \n",
       "\n",
       "   Diabetes  Alcoholism  Handcap  SMS_received No-show  \n",
       "0         0           0        0             0      No  \n",
       "1         0           0        0             0      No  \n",
       "2         0           0        0             0      No  \n",
       "3         0           0        0             0      No  \n",
       "4         1           0        0             0      No  "
      ]
     },
     "execution_count": 2,
     "metadata": {},
     "output_type": "execute_result"
    }
   ],
   "source": [
    "# Read the CSV file\n",
    "df = pd.read_csv('noshowappointments-kagglev2-may-2016.csv')\n",
    "df.head()"
   ]
  },
  {
   "cell_type": "markdown",
   "metadata": {},
   "source": [
    "<a id='wrangling'></a>\n",
    "    \n",
    "<div style=\"text-align: right\">\n",
    "    <ul>\n",
    "    <a href=\"#contents\">Back to Table of Contents </a>\n",
    "    </ul>\n",
    "</div>\n",
    "\n",
    "## Data Cleaning\n"
   ]
  },
  {
   "cell_type": "markdown",
   "metadata": {},
   "source": [
    "The first thing to do for the data cleaning stage would be to change the column names so that we could make it easier to access all of the columns of interest.\n",
    "\t\n",
    "Among these changes, we also need to change the format of the information related to missing appointments in order to avoid any confusion. Since the value Yes/1 in the 'no-show' column means that the person missed the appointment, it might be better to change the format of the column to 'attended' so that Yes/1 would tell us that the patient attended the appointment whilst No/0 that the patient has missed the appointment."
   ]
  },
  {
   "cell_type": "code",
   "execution_count": 3,
   "metadata": {
    "scrolled": true
   },
   "outputs": [
    {
     "data": {
      "text/html": [
       "<div>\n",
       "<style scoped>\n",
       "    .dataframe tbody tr th:only-of-type {\n",
       "        vertical-align: middle;\n",
       "    }\n",
       "\n",
       "    .dataframe tbody tr th {\n",
       "        vertical-align: top;\n",
       "    }\n",
       "\n",
       "    .dataframe thead th {\n",
       "        text-align: right;\n",
       "    }\n",
       "</style>\n",
       "<table border=\"1\" class=\"dataframe\">\n",
       "  <thead>\n",
       "    <tr style=\"text-align: right;\">\n",
       "      <th></th>\n",
       "      <th>patient_id</th>\n",
       "      <th>appointment_id</th>\n",
       "      <th>gender</th>\n",
       "      <th>scheduled_day</th>\n",
       "      <th>appointment_day</th>\n",
       "      <th>age</th>\n",
       "      <th>neighbourhood</th>\n",
       "      <th>scholarship</th>\n",
       "      <th>hypertension</th>\n",
       "      <th>diabetes</th>\n",
       "      <th>alcoholism</th>\n",
       "      <th>handicap</th>\n",
       "      <th>sms_received</th>\n",
       "      <th>attended</th>\n",
       "    </tr>\n",
       "  </thead>\n",
       "  <tbody>\n",
       "    <tr>\n",
       "      <th>0</th>\n",
       "      <td>2.987250e+13</td>\n",
       "      <td>5642903</td>\n",
       "      <td>F</td>\n",
       "      <td>2016-04-29T18:38:08Z</td>\n",
       "      <td>2016-04-29T00:00:00Z</td>\n",
       "      <td>62</td>\n",
       "      <td>JARDIM DA PENHA</td>\n",
       "      <td>0</td>\n",
       "      <td>1</td>\n",
       "      <td>0</td>\n",
       "      <td>0</td>\n",
       "      <td>0</td>\n",
       "      <td>0</td>\n",
       "      <td>No</td>\n",
       "    </tr>\n",
       "  </tbody>\n",
       "</table>\n",
       "</div>"
      ],
      "text/plain": [
       "     patient_id  appointment_id gender         scheduled_day  \\\n",
       "0  2.987250e+13         5642903      F  2016-04-29T18:38:08Z   \n",
       "\n",
       "        appointment_day  age    neighbourhood  scholarship  hypertension  \\\n",
       "0  2016-04-29T00:00:00Z   62  JARDIM DA PENHA            0             1   \n",
       "\n",
       "   diabetes  alcoholism  handicap  sms_received attended  \n",
       "0         0           0         0             0       No  "
      ]
     },
     "execution_count": 3,
     "metadata": {},
     "output_type": "execute_result"
    }
   ],
   "source": [
    "# Renaming the columns to make it easier to work with the dataset\n",
    "df.rename(columns=lambda x: x.lower(),inplace=True)\n",
    "df.rename(columns={'patientid':'patient_id', \n",
    "                   'appointmentid':'appointment_id',\n",
    "                   'scheduledday':'scheduled_day',\n",
    "                   'hipertension':'hypertension',\n",
    "                   'handcap':'handicap',\n",
    "                   'no-show':'attended', # Change the column name to 'attended'.\n",
    "                   'appointmentday':'appointment_day'\n",
    "}, inplace=True)\n",
    "df.head(1)"
   ]
  },
  {
   "cell_type": "code",
   "execution_count": 4,
   "metadata": {
    "scrolled": true
   },
   "outputs": [
    {
     "name": "stderr",
     "output_type": "stream",
     "text": [
      "/opt/conda/lib/python3.6/site-packages/ipykernel_launcher.py:3: SettingWithCopyWarning: \n",
      "A value is trying to be set on a copy of a slice from a DataFrame\n",
      "\n",
      "See the caveats in the documentation: http://pandas.pydata.org/pandas-docs/stable/indexing.html#indexing-view-versus-copy\n",
      "  This is separate from the ipykernel package so we can avoid doing imports until\n",
      "/opt/conda/lib/python3.6/site-packages/ipykernel_launcher.py:4: SettingWithCopyWarning: \n",
      "A value is trying to be set on a copy of a slice from a DataFrame\n",
      "\n",
      "See the caveats in the documentation: http://pandas.pydata.org/pandas-docs/stable/indexing.html#indexing-view-versus-copy\n",
      "  after removing the cwd from sys.path.\n"
     ]
    }
   ],
   "source": [
    "# Changing the format of the attended column to numeric\n",
    "\n",
    "df.attended[df['attended'] == 'No'] = '1' # No is converted to be 1 as this means that the patient attended.\n",
    "df.attended[df['attended'] == 'Yes'] = '0' # Yes is converted to be 0 as this means that the patient has not attended.\n",
    "df['attended'] = pd.to_numeric(df['attended'])"
   ]
  },
  {
   "cell_type": "code",
   "execution_count": 5,
   "metadata": {},
   "outputs": [
    {
     "data": {
      "text/html": [
       "<div>\n",
       "<style scoped>\n",
       "    .dataframe tbody tr th:only-of-type {\n",
       "        vertical-align: middle;\n",
       "    }\n",
       "\n",
       "    .dataframe tbody tr th {\n",
       "        vertical-align: top;\n",
       "    }\n",
       "\n",
       "    .dataframe thead th {\n",
       "        text-align: right;\n",
       "    }\n",
       "</style>\n",
       "<table border=\"1\" class=\"dataframe\">\n",
       "  <thead>\n",
       "    <tr style=\"text-align: right;\">\n",
       "      <th></th>\n",
       "      <th>attended</th>\n",
       "      <th>age</th>\n",
       "    </tr>\n",
       "  </thead>\n",
       "  <tbody>\n",
       "    <tr>\n",
       "      <th>0</th>\n",
       "      <td>0</td>\n",
       "      <td>22319</td>\n",
       "    </tr>\n",
       "    <tr>\n",
       "      <th>1</th>\n",
       "      <td>1</td>\n",
       "      <td>88208</td>\n",
       "    </tr>\n",
       "  </tbody>\n",
       "</table>\n",
       "</div>"
      ],
      "text/plain": [
       "   attended    age\n",
       "0         0  22319\n",
       "1         1  88208"
      ]
     },
     "execution_count": 5,
     "metadata": {},
     "output_type": "execute_result"
    }
   ],
   "source": [
    "# Check the data count of the attended/missed appointments\n",
    "df.groupby('attended', as_index=False)['age'].count() "
   ]
  },
  {
   "cell_type": "code",
   "execution_count": 6,
   "metadata": {},
   "outputs": [
    {
     "data": {
      "text/plain": [
       "patient_id         0\n",
       "appointment_id     0\n",
       "gender             0\n",
       "scheduled_day      0\n",
       "appointment_day    0\n",
       "age                0\n",
       "neighbourhood      0\n",
       "scholarship        0\n",
       "hypertension       0\n",
       "diabetes           0\n",
       "alcoholism         0\n",
       "handicap           0\n",
       "sms_received       0\n",
       "attended           0\n",
       "dtype: int64"
      ]
     },
     "execution_count": 6,
     "metadata": {},
     "output_type": "execute_result"
    }
   ],
   "source": [
    "# Checking the NaN cells in the dataset\n",
    "df.isna().sum()"
   ]
  },
  {
   "cell_type": "code",
   "execution_count": 7,
   "metadata": {},
   "outputs": [
    {
     "data": {
      "text/plain": [
       "0"
      ]
     },
     "execution_count": 7,
     "metadata": {},
     "output_type": "execute_result"
    }
   ],
   "source": [
    "# Checking the duplicated cells in the dataset\n",
    "df.duplicated().sum()"
   ]
  },
  {
   "cell_type": "code",
   "execution_count": 8,
   "metadata": {},
   "outputs": [
    {
     "data": {
      "text/plain": [
       "True"
      ]
     },
     "execution_count": 8,
     "metadata": {},
     "output_type": "execute_result"
    }
   ],
   "source": [
    "# Checking if each appointment is unique to make sure that the dataset does not have duplicated appointment IDs\n",
    "df['appointment_id'].nunique() == df['appointment_id'].count()"
   ]
  },
  {
   "cell_type": "code",
   "execution_count": 9,
   "metadata": {
    "scrolled": false
   },
   "outputs": [
    {
     "name": "stdout",
     "output_type": "stream",
     "text": [
      "<class 'pandas.core.frame.DataFrame'>\n",
      "RangeIndex: 110527 entries, 0 to 110526\n",
      "Data columns (total 14 columns):\n",
      "patient_id         110527 non-null float64\n",
      "appointment_id     110527 non-null int64\n",
      "gender             110527 non-null object\n",
      "scheduled_day      110527 non-null object\n",
      "appointment_day    110527 non-null object\n",
      "age                110527 non-null int64\n",
      "neighbourhood      110527 non-null object\n",
      "scholarship        110527 non-null int64\n",
      "hypertension       110527 non-null int64\n",
      "diabetes           110527 non-null int64\n",
      "alcoholism         110527 non-null int64\n",
      "handicap           110527 non-null int64\n",
      "sms_received       110527 non-null int64\n",
      "attended           110527 non-null int64\n",
      "dtypes: float64(1), int64(9), object(4)\n",
      "memory usage: 11.8+ MB\n"
     ]
    }
   ],
   "source": [
    "# Checking data types in the dataset\n",
    "df.info()"
   ]
  },
  {
   "cell_type": "markdown",
   "metadata": {},
   "source": [
    "#### Uniformising the time and date information\n",
    "\n",
    "The time information is only present in the 'scheduled_day' column whilst the 'appointment_day' holds the dates only. Therefore, for ease of reference, we will change the format of the 'scheduled_day' to show only the dates."
   ]
  },
  {
   "cell_type": "code",
   "execution_count": 10,
   "metadata": {},
   "outputs": [],
   "source": [
    "# Convert date and time to datetime64[ns, UTC] format\n",
    "df['scheduled_day'] = pd.to_datetime(df['scheduled_day'],utc=True)\n",
    "df['appointment_day'] = pd.to_datetime(df['appointment_day'], utc=True)"
   ]
  },
  {
   "cell_type": "code",
   "execution_count": 11,
   "metadata": {},
   "outputs": [],
   "source": [
    "# Change the 'scheduled_day' format to include the date only\n",
    "df['scheduled_day'] = pd.to_datetime(df['scheduled_day'].dt.date, utc=True)"
   ]
  },
  {
   "cell_type": "code",
   "execution_count": 12,
   "metadata": {
    "scrolled": true
   },
   "outputs": [
    {
     "name": "stdout",
     "output_type": "stream",
     "text": [
      "datetime64[ns, UTC] datetime64[ns, UTC]\n"
     ]
    }
   ],
   "source": [
    "# Check the data format\n",
    "print(df['scheduled_day'].dtype, df['appointment_day'].dtype)"
   ]
  },
  {
   "cell_type": "code",
   "execution_count": 13,
   "metadata": {
    "scrolled": true
   },
   "outputs": [
    {
     "data": {
      "text/html": [
       "<div>\n",
       "<style scoped>\n",
       "    .dataframe tbody tr th:only-of-type {\n",
       "        vertical-align: middle;\n",
       "    }\n",
       "\n",
       "    .dataframe tbody tr th {\n",
       "        vertical-align: top;\n",
       "    }\n",
       "\n",
       "    .dataframe thead th {\n",
       "        text-align: right;\n",
       "    }\n",
       "</style>\n",
       "<table border=\"1\" class=\"dataframe\">\n",
       "  <thead>\n",
       "    <tr style=\"text-align: right;\">\n",
       "      <th></th>\n",
       "      <th>patient_id</th>\n",
       "      <th>appointment_id</th>\n",
       "      <th>gender</th>\n",
       "      <th>scheduled_day</th>\n",
       "      <th>appointment_day</th>\n",
       "      <th>age</th>\n",
       "      <th>neighbourhood</th>\n",
       "      <th>scholarship</th>\n",
       "      <th>hypertension</th>\n",
       "      <th>diabetes</th>\n",
       "      <th>alcoholism</th>\n",
       "      <th>handicap</th>\n",
       "      <th>sms_received</th>\n",
       "      <th>attended</th>\n",
       "    </tr>\n",
       "  </thead>\n",
       "  <tbody>\n",
       "    <tr>\n",
       "      <th>0</th>\n",
       "      <td>2.987250e+13</td>\n",
       "      <td>5642903</td>\n",
       "      <td>F</td>\n",
       "      <td>2016-04-29 00:00:00+00:00</td>\n",
       "      <td>2016-04-29 00:00:00+00:00</td>\n",
       "      <td>62</td>\n",
       "      <td>JARDIM DA PENHA</td>\n",
       "      <td>0</td>\n",
       "      <td>1</td>\n",
       "      <td>0</td>\n",
       "      <td>0</td>\n",
       "      <td>0</td>\n",
       "      <td>0</td>\n",
       "      <td>1</td>\n",
       "    </tr>\n",
       "  </tbody>\n",
       "</table>\n",
       "</div>"
      ],
      "text/plain": [
       "     patient_id  appointment_id gender             scheduled_day  \\\n",
       "0  2.987250e+13         5642903      F 2016-04-29 00:00:00+00:00   \n",
       "\n",
       "            appointment_day  age    neighbourhood  scholarship  hypertension  \\\n",
       "0 2016-04-29 00:00:00+00:00   62  JARDIM DA PENHA            0             1   \n",
       "\n",
       "   diabetes  alcoholism  handicap  sms_received  attended  \n",
       "0         0           0         0             0         1  "
      ]
     },
     "execution_count": 13,
     "metadata": {},
     "output_type": "execute_result"
    }
   ],
   "source": [
    "# Check the 'scheduled_day' data being changed to yyyy-mm-dd format\n",
    "df.head(1) "
   ]
  },
  {
   "cell_type": "code",
   "execution_count": 14,
   "metadata": {
    "scrolled": false
   },
   "outputs": [
    {
     "data": {
      "text/html": [
       "<div>\n",
       "<style scoped>\n",
       "    .dataframe tbody tr th:only-of-type {\n",
       "        vertical-align: middle;\n",
       "    }\n",
       "\n",
       "    .dataframe tbody tr th {\n",
       "        vertical-align: top;\n",
       "    }\n",
       "\n",
       "    .dataframe thead th {\n",
       "        text-align: right;\n",
       "    }\n",
       "</style>\n",
       "<table border=\"1\" class=\"dataframe\">\n",
       "  <thead>\n",
       "    <tr style=\"text-align: right;\">\n",
       "      <th></th>\n",
       "      <th>patient_id</th>\n",
       "      <th>appointment_id</th>\n",
       "      <th>age</th>\n",
       "      <th>scholarship</th>\n",
       "      <th>hypertension</th>\n",
       "      <th>diabetes</th>\n",
       "      <th>alcoholism</th>\n",
       "      <th>handicap</th>\n",
       "      <th>sms_received</th>\n",
       "      <th>attended</th>\n",
       "    </tr>\n",
       "  </thead>\n",
       "  <tbody>\n",
       "    <tr>\n",
       "      <th>count</th>\n",
       "      <td>1.105270e+05</td>\n",
       "      <td>1.105270e+05</td>\n",
       "      <td>110527.000000</td>\n",
       "      <td>110527.000000</td>\n",
       "      <td>110527.000000</td>\n",
       "      <td>110527.000000</td>\n",
       "      <td>110527.000000</td>\n",
       "      <td>110527.000000</td>\n",
       "      <td>110527.000000</td>\n",
       "      <td>110527.000000</td>\n",
       "    </tr>\n",
       "    <tr>\n",
       "      <th>mean</th>\n",
       "      <td>1.474963e+14</td>\n",
       "      <td>5.675305e+06</td>\n",
       "      <td>37.088874</td>\n",
       "      <td>0.098266</td>\n",
       "      <td>0.197246</td>\n",
       "      <td>0.071865</td>\n",
       "      <td>0.030400</td>\n",
       "      <td>0.022248</td>\n",
       "      <td>0.321026</td>\n",
       "      <td>0.798067</td>\n",
       "    </tr>\n",
       "    <tr>\n",
       "      <th>std</th>\n",
       "      <td>2.560949e+14</td>\n",
       "      <td>7.129575e+04</td>\n",
       "      <td>23.110205</td>\n",
       "      <td>0.297675</td>\n",
       "      <td>0.397921</td>\n",
       "      <td>0.258265</td>\n",
       "      <td>0.171686</td>\n",
       "      <td>0.161543</td>\n",
       "      <td>0.466873</td>\n",
       "      <td>0.401444</td>\n",
       "    </tr>\n",
       "    <tr>\n",
       "      <th>min</th>\n",
       "      <td>3.921784e+04</td>\n",
       "      <td>5.030230e+06</td>\n",
       "      <td>-1.000000</td>\n",
       "      <td>0.000000</td>\n",
       "      <td>0.000000</td>\n",
       "      <td>0.000000</td>\n",
       "      <td>0.000000</td>\n",
       "      <td>0.000000</td>\n",
       "      <td>0.000000</td>\n",
       "      <td>0.000000</td>\n",
       "    </tr>\n",
       "    <tr>\n",
       "      <th>25%</th>\n",
       "      <td>4.172614e+12</td>\n",
       "      <td>5.640286e+06</td>\n",
       "      <td>18.000000</td>\n",
       "      <td>0.000000</td>\n",
       "      <td>0.000000</td>\n",
       "      <td>0.000000</td>\n",
       "      <td>0.000000</td>\n",
       "      <td>0.000000</td>\n",
       "      <td>0.000000</td>\n",
       "      <td>1.000000</td>\n",
       "    </tr>\n",
       "    <tr>\n",
       "      <th>50%</th>\n",
       "      <td>3.173184e+13</td>\n",
       "      <td>5.680573e+06</td>\n",
       "      <td>37.000000</td>\n",
       "      <td>0.000000</td>\n",
       "      <td>0.000000</td>\n",
       "      <td>0.000000</td>\n",
       "      <td>0.000000</td>\n",
       "      <td>0.000000</td>\n",
       "      <td>0.000000</td>\n",
       "      <td>1.000000</td>\n",
       "    </tr>\n",
       "    <tr>\n",
       "      <th>75%</th>\n",
       "      <td>9.439172e+13</td>\n",
       "      <td>5.725524e+06</td>\n",
       "      <td>55.000000</td>\n",
       "      <td>0.000000</td>\n",
       "      <td>0.000000</td>\n",
       "      <td>0.000000</td>\n",
       "      <td>0.000000</td>\n",
       "      <td>0.000000</td>\n",
       "      <td>1.000000</td>\n",
       "      <td>1.000000</td>\n",
       "    </tr>\n",
       "    <tr>\n",
       "      <th>max</th>\n",
       "      <td>9.999816e+14</td>\n",
       "      <td>5.790484e+06</td>\n",
       "      <td>115.000000</td>\n",
       "      <td>1.000000</td>\n",
       "      <td>1.000000</td>\n",
       "      <td>1.000000</td>\n",
       "      <td>1.000000</td>\n",
       "      <td>4.000000</td>\n",
       "      <td>1.000000</td>\n",
       "      <td>1.000000</td>\n",
       "    </tr>\n",
       "  </tbody>\n",
       "</table>\n",
       "</div>"
      ],
      "text/plain": [
       "         patient_id  appointment_id            age    scholarship  \\\n",
       "count  1.105270e+05    1.105270e+05  110527.000000  110527.000000   \n",
       "mean   1.474963e+14    5.675305e+06      37.088874       0.098266   \n",
       "std    2.560949e+14    7.129575e+04      23.110205       0.297675   \n",
       "min    3.921784e+04    5.030230e+06      -1.000000       0.000000   \n",
       "25%    4.172614e+12    5.640286e+06      18.000000       0.000000   \n",
       "50%    3.173184e+13    5.680573e+06      37.000000       0.000000   \n",
       "75%    9.439172e+13    5.725524e+06      55.000000       0.000000   \n",
       "max    9.999816e+14    5.790484e+06     115.000000       1.000000   \n",
       "\n",
       "        hypertension       diabetes     alcoholism       handicap  \\\n",
       "count  110527.000000  110527.000000  110527.000000  110527.000000   \n",
       "mean        0.197246       0.071865       0.030400       0.022248   \n",
       "std         0.397921       0.258265       0.171686       0.161543   \n",
       "min         0.000000       0.000000       0.000000       0.000000   \n",
       "25%         0.000000       0.000000       0.000000       0.000000   \n",
       "50%         0.000000       0.000000       0.000000       0.000000   \n",
       "75%         0.000000       0.000000       0.000000       0.000000   \n",
       "max         1.000000       1.000000       1.000000       4.000000   \n",
       "\n",
       "        sms_received       attended  \n",
       "count  110527.000000  110527.000000  \n",
       "mean        0.321026       0.798067  \n",
       "std         0.466873       0.401444  \n",
       "min         0.000000       0.000000  \n",
       "25%         0.000000       1.000000  \n",
       "50%         0.000000       1.000000  \n",
       "75%         1.000000       1.000000  \n",
       "max         1.000000       1.000000  "
      ]
     },
     "execution_count": 14,
     "metadata": {},
     "output_type": "execute_result"
    }
   ],
   "source": [
    "df.describe() # Check other parameters of the data."
   ]
  },
  {
   "cell_type": "markdown",
   "metadata": {},
   "source": [
    "#### Cleaning 'age' column\n",
    "\n",
    "We can see that there is one entry with the age -1. This might be related to a prenatal care check-up appointment. However, since we do not have enough data on what this might be, it would be best to drop this row.\n",
    "\n",
    "On the other side, there is no need to drop the max-age value of 115 since Brazil is well known to host several super-centenary as per [this link](https://gerontology.fandom.com/wiki/List_of_Brazilian_supercentenarians)."
   ]
  },
  {
   "cell_type": "code",
   "execution_count": 15,
   "metadata": {},
   "outputs": [],
   "source": [
    "# Link the index value of the -1 age row to a variable\n",
    "under_0 = df.query('age < 0') \n",
    "# Drop the -1 age row\n",
    "df.drop(under_0.index, inplace=True) "
   ]
  },
  {
   "cell_type": "code",
   "execution_count": 16,
   "metadata": {
    "scrolled": false
   },
   "outputs": [
    {
     "data": {
      "text/html": [
       "<div>\n",
       "<style scoped>\n",
       "    .dataframe tbody tr th:only-of-type {\n",
       "        vertical-align: middle;\n",
       "    }\n",
       "\n",
       "    .dataframe tbody tr th {\n",
       "        vertical-align: top;\n",
       "    }\n",
       "\n",
       "    .dataframe thead th {\n",
       "        text-align: right;\n",
       "    }\n",
       "</style>\n",
       "<table border=\"1\" class=\"dataframe\">\n",
       "  <thead>\n",
       "    <tr style=\"text-align: right;\">\n",
       "      <th></th>\n",
       "      <th>patient_id</th>\n",
       "      <th>appointment_id</th>\n",
       "      <th>gender</th>\n",
       "      <th>scheduled_day</th>\n",
       "      <th>appointment_day</th>\n",
       "      <th>age</th>\n",
       "      <th>neighbourhood</th>\n",
       "      <th>scholarship</th>\n",
       "      <th>hypertension</th>\n",
       "      <th>diabetes</th>\n",
       "      <th>alcoholism</th>\n",
       "      <th>handicap</th>\n",
       "      <th>sms_received</th>\n",
       "      <th>attended</th>\n",
       "    </tr>\n",
       "  </thead>\n",
       "  <tbody>\n",
       "  </tbody>\n",
       "</table>\n",
       "</div>"
      ],
      "text/plain": [
       "Empty DataFrame\n",
       "Columns: [patient_id, appointment_id, gender, scheduled_day, appointment_day, age, neighbourhood, scholarship, hypertension, diabetes, alcoholism, handicap, sms_received, attended]\n",
       "Index: []"
      ]
     },
     "execution_count": 16,
     "metadata": {},
     "output_type": "execute_result"
    }
   ],
   "source": [
    "# Confirm that the -1 age row has been dropped\n",
    "df.query('age < 0') "
   ]
  },
  {
   "cell_type": "markdown",
   "metadata": {},
   "source": [
    "#### Check the data by the 'appointment_day' to explore any inconsistent information related to the work days.\n",
    "\n",
    "We will explore the clinics' workdays. If the clinics usually work on weekends we could explore if the patients miss more appointments on weekends on weekdays."
   ]
  },
  {
   "cell_type": "code",
   "execution_count": 17,
   "metadata": {},
   "outputs": [],
   "source": [
    "# Group the data by the appointment day \n",
    "work_day = df.groupby('appointment_day', as_index=False)['age'].count() "
   ]
  },
  {
   "cell_type": "code",
   "execution_count": 18,
   "metadata": {},
   "outputs": [],
   "source": [
    "# Add an additional column to represent the day of the week\n",
    "work_day['day_week'] = work_day['appointment_day'].dt.day_name()"
   ]
  },
  {
   "cell_type": "code",
   "execution_count": 19,
   "metadata": {
    "scrolled": true
   },
   "outputs": [
    {
     "data": {
      "text/plain": [
       "day_week\n",
       "Friday       5\n",
       "Monday       5\n",
       "Saturday     1\n",
       "Thursday     4\n",
       "Tuesday      6\n",
       "Wednesday    6\n",
       "dtype: int64"
      ]
     },
     "execution_count": 19,
     "metadata": {},
     "output_type": "execute_result"
    }
   ],
   "source": [
    "# Check the clinics' work days\n",
    "work_day.groupby('day_week', as_index=False).size()"
   ]
  },
  {
   "cell_type": "markdown",
   "metadata": {},
   "source": [
    "It seems that there have been some appointments on Saturday. According to the data, this is unusual. "
   ]
  },
  {
   "cell_type": "code",
   "execution_count": 20,
   "metadata": {},
   "outputs": [
    {
     "data": {
      "text/html": [
       "<div>\n",
       "<style scoped>\n",
       "    .dataframe tbody tr th:only-of-type {\n",
       "        vertical-align: middle;\n",
       "    }\n",
       "\n",
       "    .dataframe tbody tr th {\n",
       "        vertical-align: top;\n",
       "    }\n",
       "\n",
       "    .dataframe thead th {\n",
       "        text-align: right;\n",
       "    }\n",
       "</style>\n",
       "<table border=\"1\" class=\"dataframe\">\n",
       "  <thead>\n",
       "    <tr style=\"text-align: right;\">\n",
       "      <th></th>\n",
       "      <th>appointment_day</th>\n",
       "      <th>age</th>\n",
       "      <th>day_week</th>\n",
       "    </tr>\n",
       "  </thead>\n",
       "  <tbody>\n",
       "    <tr>\n",
       "      <th>11</th>\n",
       "      <td>2016-05-14 00:00:00+00:00</td>\n",
       "      <td>39</td>\n",
       "      <td>Saturday</td>\n",
       "    </tr>\n",
       "  </tbody>\n",
       "</table>\n",
       "</div>"
      ],
      "text/plain": [
       "             appointment_day  age  day_week\n",
       "11 2016-05-14 00:00:00+00:00   39  Saturday"
      ]
     },
     "execution_count": 20,
     "metadata": {},
     "output_type": "execute_result"
    }
   ],
   "source": [
    "# Query Saturday\n",
    "work_day.query('day_week == \"Saturday\"') "
   ]
  },
  {
   "cell_type": "markdown",
   "metadata": {},
   "source": [
    "#### Upon checking the working days of the clinics, we can see that the clinics are working during the weekdays, with a couple of exceptions.\n",
    "> On Saturday, May 14 2016, the data shows that there were 39 appointments. \n",
    "> This is the only Saturday with appointments at Espírito Santo clinics. \n",
    "> Therefore, we need to drop the appointments on \"2016-05-14\" and trim our findings to the weekdays. \n",
    "\n",
    "> On top of that, we can see that none of the clinics worked on a couple of days in May (23 (Mon), 26 (Thu) and 27 (Fri)).\n",
    "\n",
    "Bottom line, since these are not bank holidays in Brazil nor the State of Espírito Santo, we cannot determine the reason behind this, therefore, we will not further explore this particular finding. "
   ]
  },
  {
   "cell_type": "code",
   "execution_count": 21,
   "metadata": {},
   "outputs": [],
   "source": [
    "# Dropping the rows for Saturday, May 14 2016.\n",
    "sat_index = df.query('appointment_day == \"2016-05-14\"')\n",
    "df.drop(sat_index.index, inplace=True)"
   ]
  },
  {
   "cell_type": "code",
   "execution_count": 22,
   "metadata": {
    "scrolled": false
   },
   "outputs": [
    {
     "data": {
      "text/html": [
       "<div>\n",
       "<style scoped>\n",
       "    .dataframe tbody tr th:only-of-type {\n",
       "        vertical-align: middle;\n",
       "    }\n",
       "\n",
       "    .dataframe tbody tr th {\n",
       "        vertical-align: top;\n",
       "    }\n",
       "\n",
       "    .dataframe thead th {\n",
       "        text-align: right;\n",
       "    }\n",
       "</style>\n",
       "<table border=\"1\" class=\"dataframe\">\n",
       "  <thead>\n",
       "    <tr style=\"text-align: right;\">\n",
       "      <th></th>\n",
       "      <th>patient_id</th>\n",
       "      <th>appointment_id</th>\n",
       "      <th>gender</th>\n",
       "      <th>scheduled_day</th>\n",
       "      <th>appointment_day</th>\n",
       "      <th>age</th>\n",
       "      <th>neighbourhood</th>\n",
       "      <th>scholarship</th>\n",
       "      <th>hypertension</th>\n",
       "      <th>diabetes</th>\n",
       "      <th>alcoholism</th>\n",
       "      <th>handicap</th>\n",
       "      <th>sms_received</th>\n",
       "      <th>attended</th>\n",
       "    </tr>\n",
       "  </thead>\n",
       "  <tbody>\n",
       "  </tbody>\n",
       "</table>\n",
       "</div>"
      ],
      "text/plain": [
       "Empty DataFrame\n",
       "Columns: [patient_id, appointment_id, gender, scheduled_day, appointment_day, age, neighbourhood, scholarship, hypertension, diabetes, alcoholism, handicap, sms_received, attended]\n",
       "Index: []"
      ]
     },
     "execution_count": 22,
     "metadata": {},
     "output_type": "execute_result"
    }
   ],
   "source": [
    "# Checking that the rows with the Saturday, May 14 2016 values have been dropped.\n",
    "df.query('appointment_day == \"2016-05-14\"')"
   ]
  },
  {
   "cell_type": "markdown",
   "metadata": {},
   "source": [
    "---"
   ]
  },
  {
   "cell_type": "markdown",
   "metadata": {},
   "source": [
    "Additionally, check the min and max average values grouped by the neighbourhood column."
   ]
  },
  {
   "cell_type": "code",
   "execution_count": 23,
   "metadata": {
    "scrolled": true
   },
   "outputs": [
    {
     "data": {
      "text/html": [
       "<div>\n",
       "<style scoped>\n",
       "    .dataframe tbody tr th:only-of-type {\n",
       "        vertical-align: middle;\n",
       "    }\n",
       "\n",
       "    .dataframe tbody tr th {\n",
       "        vertical-align: top;\n",
       "    }\n",
       "\n",
       "    .dataframe thead th {\n",
       "        text-align: right;\n",
       "    }\n",
       "</style>\n",
       "<table border=\"1\" class=\"dataframe\">\n",
       "  <thead>\n",
       "    <tr style=\"text-align: right;\">\n",
       "      <th></th>\n",
       "      <th>patient_id</th>\n",
       "      <th>appointment_id</th>\n",
       "      <th>age</th>\n",
       "      <th>scholarship</th>\n",
       "      <th>hypertension</th>\n",
       "      <th>diabetes</th>\n",
       "      <th>alcoholism</th>\n",
       "      <th>handicap</th>\n",
       "      <th>sms_received</th>\n",
       "      <th>attended</th>\n",
       "    </tr>\n",
       "  </thead>\n",
       "  <tbody>\n",
       "    <tr>\n",
       "      <th>count</th>\n",
       "      <td>8.100000e+01</td>\n",
       "      <td>8.100000e+01</td>\n",
       "      <td>81.000000</td>\n",
       "      <td>81.000000</td>\n",
       "      <td>81.000000</td>\n",
       "      <td>81.000000</td>\n",
       "      <td>81.000000</td>\n",
       "      <td>81.000000</td>\n",
       "      <td>81.000000</td>\n",
       "      <td>81.000000</td>\n",
       "    </tr>\n",
       "    <tr>\n",
       "      <th>mean</th>\n",
       "      <td>1.451436e+14</td>\n",
       "      <td>5.676465e+06</td>\n",
       "      <td>37.691795</td>\n",
       "      <td>0.091231</td>\n",
       "      <td>0.189285</td>\n",
       "      <td>0.069326</td>\n",
       "      <td>0.028852</td>\n",
       "      <td>0.022997</td>\n",
       "      <td>0.322615</td>\n",
       "      <td>0.794528</td>\n",
       "    </tr>\n",
       "    <tr>\n",
       "      <th>std</th>\n",
       "      <td>4.058508e+13</td>\n",
       "      <td>1.758561e+04</td>\n",
       "      <td>5.742571</td>\n",
       "      <td>0.073012</td>\n",
       "      <td>0.091218</td>\n",
       "      <td>0.036153</td>\n",
       "      <td>0.028990</td>\n",
       "      <td>0.021082</td>\n",
       "      <td>0.081872</td>\n",
       "      <td>0.097236</td>\n",
       "    </tr>\n",
       "    <tr>\n",
       "      <th>min</th>\n",
       "      <td>3.895708e+12</td>\n",
       "      <td>5.583948e+06</td>\n",
       "      <td>17.000000</td>\n",
       "      <td>0.000000</td>\n",
       "      <td>0.000000</td>\n",
       "      <td>0.000000</td>\n",
       "      <td>0.000000</td>\n",
       "      <td>0.000000</td>\n",
       "      <td>0.000000</td>\n",
       "      <td>0.000000</td>\n",
       "    </tr>\n",
       "    <tr>\n",
       "      <th>25%</th>\n",
       "      <td>1.339306e+14</td>\n",
       "      <td>5.665410e+06</td>\n",
       "      <td>34.614286</td>\n",
       "      <td>0.020604</td>\n",
       "      <td>0.134831</td>\n",
       "      <td>0.054264</td>\n",
       "      <td>0.006849</td>\n",
       "      <td>0.007411</td>\n",
       "      <td>0.296426</td>\n",
       "      <td>0.782546</td>\n",
       "    </tr>\n",
       "    <tr>\n",
       "      <th>50%</th>\n",
       "      <td>1.424815e+14</td>\n",
       "      <td>5.681297e+06</td>\n",
       "      <td>36.235484</td>\n",
       "      <td>0.088132</td>\n",
       "      <td>0.215137</td>\n",
       "      <td>0.074951</td>\n",
       "      <td>0.022409</td>\n",
       "      <td>0.020777</td>\n",
       "      <td>0.332845</td>\n",
       "      <td>0.802412</td>\n",
       "    </tr>\n",
       "    <tr>\n",
       "      <th>75%</th>\n",
       "      <td>1.565115e+14</td>\n",
       "      <td>5.688532e+06</td>\n",
       "      <td>40.958333</td>\n",
       "      <td>0.136926</td>\n",
       "      <td>0.258447</td>\n",
       "      <td>0.094340</td>\n",
       "      <td>0.041477</td>\n",
       "      <td>0.033385</td>\n",
       "      <td>0.365484</td>\n",
       "      <td>0.820093</td>\n",
       "    </tr>\n",
       "    <tr>\n",
       "      <th>max</th>\n",
       "      <td>3.528542e+14</td>\n",
       "      <td>5.702727e+06</td>\n",
       "      <td>54.500000</td>\n",
       "      <td>0.280751</td>\n",
       "      <td>0.347541</td>\n",
       "      <td>0.135417</td>\n",
       "      <td>0.146840</td>\n",
       "      <td>0.108571</td>\n",
       "      <td>0.600000</td>\n",
       "      <td>1.000000</td>\n",
       "    </tr>\n",
       "  </tbody>\n",
       "</table>\n",
       "</div>"
      ],
      "text/plain": [
       "         patient_id  appointment_id        age  scholarship  hypertension  \\\n",
       "count  8.100000e+01    8.100000e+01  81.000000    81.000000     81.000000   \n",
       "mean   1.451436e+14    5.676465e+06  37.691795     0.091231      0.189285   \n",
       "std    4.058508e+13    1.758561e+04   5.742571     0.073012      0.091218   \n",
       "min    3.895708e+12    5.583948e+06  17.000000     0.000000      0.000000   \n",
       "25%    1.339306e+14    5.665410e+06  34.614286     0.020604      0.134831   \n",
       "50%    1.424815e+14    5.681297e+06  36.235484     0.088132      0.215137   \n",
       "75%    1.565115e+14    5.688532e+06  40.958333     0.136926      0.258447   \n",
       "max    3.528542e+14    5.702727e+06  54.500000     0.280751      0.347541   \n",
       "\n",
       "        diabetes  alcoholism   handicap  sms_received   attended  \n",
       "count  81.000000   81.000000  81.000000     81.000000  81.000000  \n",
       "mean    0.069326    0.028852   0.022997      0.322615   0.794528  \n",
       "std     0.036153    0.028990   0.021082      0.081872   0.097236  \n",
       "min     0.000000    0.000000   0.000000      0.000000   0.000000  \n",
       "25%     0.054264    0.006849   0.007411      0.296426   0.782546  \n",
       "50%     0.074951    0.022409   0.020777      0.332845   0.802412  \n",
       "75%     0.094340    0.041477   0.033385      0.365484   0.820093  \n",
       "max     0.135417    0.146840   0.108571      0.600000   1.000000  "
      ]
     },
     "execution_count": 23,
     "metadata": {},
     "output_type": "execute_result"
    }
   ],
   "source": [
    "# Check the average values \n",
    "df.groupby('neighbourhood').mean().describe()"
   ]
  },
  {
   "cell_type": "markdown",
   "metadata": {},
   "source": [
    "We can see that the min average value of the attended data is 0 and the max is 1. Further investigation is required."
   ]
  },
  {
   "cell_type": "code",
   "execution_count": 24,
   "metadata": {},
   "outputs": [
    {
     "data": {
      "text/html": [
       "<div>\n",
       "<style scoped>\n",
       "    .dataframe tbody tr th:only-of-type {\n",
       "        vertical-align: middle;\n",
       "    }\n",
       "\n",
       "    .dataframe tbody tr th {\n",
       "        vertical-align: top;\n",
       "    }\n",
       "\n",
       "    .dataframe thead th {\n",
       "        text-align: right;\n",
       "    }\n",
       "</style>\n",
       "<table border=\"1\" class=\"dataframe\">\n",
       "  <thead>\n",
       "    <tr style=\"text-align: right;\">\n",
       "      <th></th>\n",
       "      <th>patient_id</th>\n",
       "      <th>appointment_id</th>\n",
       "      <th>age</th>\n",
       "      <th>scholarship</th>\n",
       "      <th>hypertension</th>\n",
       "      <th>diabetes</th>\n",
       "      <th>alcoholism</th>\n",
       "      <th>handicap</th>\n",
       "      <th>sms_received</th>\n",
       "      <th>attended</th>\n",
       "    </tr>\n",
       "    <tr>\n",
       "      <th>neighbourhood</th>\n",
       "      <th></th>\n",
       "      <th></th>\n",
       "      <th></th>\n",
       "      <th></th>\n",
       "      <th></th>\n",
       "      <th></th>\n",
       "      <th></th>\n",
       "      <th></th>\n",
       "      <th></th>\n",
       "      <th></th>\n",
       "    </tr>\n",
       "  </thead>\n",
       "  <tbody>\n",
       "    <tr>\n",
       "      <th>PARQUE INDUSTRIAL</th>\n",
       "      <td>8.255992e+12</td>\n",
       "      <td>5663947.0</td>\n",
       "      <td>17.0</td>\n",
       "      <td>0.0</td>\n",
       "      <td>0.0</td>\n",
       "      <td>0.0</td>\n",
       "      <td>0.0</td>\n",
       "      <td>0.0</td>\n",
       "      <td>0.0</td>\n",
       "      <td>1.0</td>\n",
       "    </tr>\n",
       "  </tbody>\n",
       "</table>\n",
       "</div>"
      ],
      "text/plain": [
       "                     patient_id  appointment_id   age  scholarship  \\\n",
       "neighbourhood                                                        \n",
       "PARQUE INDUSTRIAL  8.255992e+12       5663947.0  17.0          0.0   \n",
       "\n",
       "                   hypertension  diabetes  alcoholism  handicap  sms_received  \\\n",
       "neighbourhood                                                                   \n",
       "PARQUE INDUSTRIAL           0.0       0.0         0.0       0.0           0.0   \n",
       "\n",
       "                   attended  \n",
       "neighbourhood                \n",
       "PARQUE INDUSTRIAL       1.0  "
      ]
     },
     "execution_count": 24,
     "metadata": {},
     "output_type": "execute_result"
    }
   ],
   "source": [
    "# Query the mean value of the attended column by the value of 1\n",
    "df.groupby('neighbourhood').mean().query('attended == 1')"
   ]
  },
  {
   "cell_type": "code",
   "execution_count": 25,
   "metadata": {
    "scrolled": false
   },
   "outputs": [
    {
     "data": {
      "text/html": [
       "<div>\n",
       "<style scoped>\n",
       "    .dataframe tbody tr th:only-of-type {\n",
       "        vertical-align: middle;\n",
       "    }\n",
       "\n",
       "    .dataframe tbody tr th {\n",
       "        vertical-align: top;\n",
       "    }\n",
       "\n",
       "    .dataframe thead th {\n",
       "        text-align: right;\n",
       "    }\n",
       "</style>\n",
       "<table border=\"1\" class=\"dataframe\">\n",
       "  <thead>\n",
       "    <tr style=\"text-align: right;\">\n",
       "      <th></th>\n",
       "      <th>patient_id</th>\n",
       "      <th>appointment_id</th>\n",
       "      <th>age</th>\n",
       "      <th>scholarship</th>\n",
       "      <th>hypertension</th>\n",
       "      <th>diabetes</th>\n",
       "      <th>alcoholism</th>\n",
       "      <th>handicap</th>\n",
       "      <th>sms_received</th>\n",
       "      <th>attended</th>\n",
       "    </tr>\n",
       "    <tr>\n",
       "      <th>neighbourhood</th>\n",
       "      <th></th>\n",
       "      <th></th>\n",
       "      <th></th>\n",
       "      <th></th>\n",
       "      <th></th>\n",
       "      <th></th>\n",
       "      <th></th>\n",
       "      <th></th>\n",
       "      <th></th>\n",
       "      <th></th>\n",
       "    </tr>\n",
       "  </thead>\n",
       "  <tbody>\n",
       "    <tr>\n",
       "      <th>ILHAS OCEÂNICAS DE TRINDADE</th>\n",
       "      <td>3.895708e+12</td>\n",
       "      <td>5583947.5</td>\n",
       "      <td>54.5</td>\n",
       "      <td>0.0</td>\n",
       "      <td>0.0</td>\n",
       "      <td>0.0</td>\n",
       "      <td>0.0</td>\n",
       "      <td>0.0</td>\n",
       "      <td>0.0</td>\n",
       "      <td>0.0</td>\n",
       "    </tr>\n",
       "  </tbody>\n",
       "</table>\n",
       "</div>"
      ],
      "text/plain": [
       "                               patient_id  appointment_id   age  scholarship  \\\n",
       "neighbourhood                                                                  \n",
       "ILHAS OCEÂNICAS DE TRINDADE  3.895708e+12       5583947.5  54.5          0.0   \n",
       "\n",
       "                             hypertension  diabetes  alcoholism  handicap  \\\n",
       "neighbourhood                                                               \n",
       "ILHAS OCEÂNICAS DE TRINDADE           0.0       0.0         0.0       0.0   \n",
       "\n",
       "                             sms_received  attended  \n",
       "neighbourhood                                        \n",
       "ILHAS OCEÂNICAS DE TRINDADE           0.0       0.0  "
      ]
     },
     "execution_count": 25,
     "metadata": {},
     "output_type": "execute_result"
    }
   ],
   "source": [
    "# Query the mean value of the attended column by the value of 0\n",
    "df.groupby('neighbourhood').mean().query('attended == 0')"
   ]
  },
  {
   "cell_type": "markdown",
   "metadata": {},
   "source": [
    "The major differences between the two are the remaining days to the appointment and age. Since there is limited information on these neighbourhoods, it would be best to drop them off."
   ]
  },
  {
   "cell_type": "code",
   "execution_count": 26,
   "metadata": {},
   "outputs": [
    {
     "data": {
      "text/html": [
       "<div>\n",
       "<style scoped>\n",
       "    .dataframe tbody tr th:only-of-type {\n",
       "        vertical-align: middle;\n",
       "    }\n",
       "\n",
       "    .dataframe tbody tr th {\n",
       "        vertical-align: top;\n",
       "    }\n",
       "\n",
       "    .dataframe thead th {\n",
       "        text-align: right;\n",
       "    }\n",
       "</style>\n",
       "<table border=\"1\" class=\"dataframe\">\n",
       "  <thead>\n",
       "    <tr style=\"text-align: right;\">\n",
       "      <th></th>\n",
       "      <th>patient_id</th>\n",
       "      <th>appointment_id</th>\n",
       "      <th>gender</th>\n",
       "      <th>scheduled_day</th>\n",
       "      <th>appointment_day</th>\n",
       "      <th>age</th>\n",
       "      <th>neighbourhood</th>\n",
       "      <th>scholarship</th>\n",
       "      <th>hypertension</th>\n",
       "      <th>diabetes</th>\n",
       "      <th>alcoholism</th>\n",
       "      <th>handicap</th>\n",
       "      <th>sms_received</th>\n",
       "      <th>attended</th>\n",
       "    </tr>\n",
       "  </thead>\n",
       "  <tbody>\n",
       "    <tr>\n",
       "      <th>75199</th>\n",
       "      <td>8.255992e+12</td>\n",
       "      <td>5663947</td>\n",
       "      <td>F</td>\n",
       "      <td>2016-05-05 00:00:00+00:00</td>\n",
       "      <td>2016-05-05 00:00:00+00:00</td>\n",
       "      <td>17</td>\n",
       "      <td>PARQUE INDUSTRIAL</td>\n",
       "      <td>0</td>\n",
       "      <td>0</td>\n",
       "      <td>0</td>\n",
       "      <td>0</td>\n",
       "      <td>0</td>\n",
       "      <td>0</td>\n",
       "      <td>1</td>\n",
       "    </tr>\n",
       "  </tbody>\n",
       "</table>\n",
       "</div>"
      ],
      "text/plain": [
       "         patient_id  appointment_id gender             scheduled_day  \\\n",
       "75199  8.255992e+12         5663947      F 2016-05-05 00:00:00+00:00   \n",
       "\n",
       "                appointment_day  age      neighbourhood  scholarship  \\\n",
       "75199 2016-05-05 00:00:00+00:00   17  PARQUE INDUSTRIAL            0   \n",
       "\n",
       "       hypertension  diabetes  alcoholism  handicap  sms_received  attended  \n",
       "75199             0         0           0         0             0         1  "
      ]
     },
     "execution_count": 26,
     "metadata": {},
     "output_type": "execute_result"
    }
   ],
   "source": [
    "# Find out the index number of the rows that are exceptions.\n",
    "df.query('neighbourhood == \"PARQUE INDUSTRIAL\"')"
   ]
  },
  {
   "cell_type": "code",
   "execution_count": 27,
   "metadata": {},
   "outputs": [
    {
     "data": {
      "text/html": [
       "<div>\n",
       "<style scoped>\n",
       "    .dataframe tbody tr th:only-of-type {\n",
       "        vertical-align: middle;\n",
       "    }\n",
       "\n",
       "    .dataframe tbody tr th {\n",
       "        vertical-align: top;\n",
       "    }\n",
       "\n",
       "    .dataframe thead th {\n",
       "        text-align: right;\n",
       "    }\n",
       "</style>\n",
       "<table border=\"1\" class=\"dataframe\">\n",
       "  <thead>\n",
       "    <tr style=\"text-align: right;\">\n",
       "      <th></th>\n",
       "      <th>patient_id</th>\n",
       "      <th>appointment_id</th>\n",
       "      <th>gender</th>\n",
       "      <th>scheduled_day</th>\n",
       "      <th>appointment_day</th>\n",
       "      <th>age</th>\n",
       "      <th>neighbourhood</th>\n",
       "      <th>scholarship</th>\n",
       "      <th>hypertension</th>\n",
       "      <th>diabetes</th>\n",
       "      <th>alcoholism</th>\n",
       "      <th>handicap</th>\n",
       "      <th>sms_received</th>\n",
       "      <th>attended</th>\n",
       "    </tr>\n",
       "  </thead>\n",
       "  <tbody>\n",
       "    <tr>\n",
       "      <th>48754</th>\n",
       "      <td>5.349869e+11</td>\n",
       "      <td>5583947</td>\n",
       "      <td>F</td>\n",
       "      <td>2016-04-14 00:00:00+00:00</td>\n",
       "      <td>2016-05-13 00:00:00+00:00</td>\n",
       "      <td>51</td>\n",
       "      <td>ILHAS OCEÂNICAS DE TRINDADE</td>\n",
       "      <td>0</td>\n",
       "      <td>0</td>\n",
       "      <td>0</td>\n",
       "      <td>0</td>\n",
       "      <td>0</td>\n",
       "      <td>0</td>\n",
       "      <td>0</td>\n",
       "    </tr>\n",
       "    <tr>\n",
       "      <th>48765</th>\n",
       "      <td>7.256430e+12</td>\n",
       "      <td>5583948</td>\n",
       "      <td>F</td>\n",
       "      <td>2016-04-14 00:00:00+00:00</td>\n",
       "      <td>2016-05-13 00:00:00+00:00</td>\n",
       "      <td>58</td>\n",
       "      <td>ILHAS OCEÂNICAS DE TRINDADE</td>\n",
       "      <td>0</td>\n",
       "      <td>0</td>\n",
       "      <td>0</td>\n",
       "      <td>0</td>\n",
       "      <td>0</td>\n",
       "      <td>0</td>\n",
       "      <td>0</td>\n",
       "    </tr>\n",
       "  </tbody>\n",
       "</table>\n",
       "</div>"
      ],
      "text/plain": [
       "         patient_id  appointment_id gender             scheduled_day  \\\n",
       "48754  5.349869e+11         5583947      F 2016-04-14 00:00:00+00:00   \n",
       "48765  7.256430e+12         5583948      F 2016-04-14 00:00:00+00:00   \n",
       "\n",
       "                appointment_day  age                neighbourhood  \\\n",
       "48754 2016-05-13 00:00:00+00:00   51  ILHAS OCEÂNICAS DE TRINDADE   \n",
       "48765 2016-05-13 00:00:00+00:00   58  ILHAS OCEÂNICAS DE TRINDADE   \n",
       "\n",
       "       scholarship  hypertension  diabetes  alcoholism  handicap  \\\n",
       "48754            0             0         0           0         0   \n",
       "48765            0             0         0           0         0   \n",
       "\n",
       "       sms_received  attended  \n",
       "48754             0         0  \n",
       "48765             0         0  "
      ]
     },
     "execution_count": 27,
     "metadata": {},
     "output_type": "execute_result"
    }
   ],
   "source": [
    "# Find out the index number of the rows that are exceptions.\n",
    "df.query('neighbourhood == \"ILHAS OCEÂNICAS DE TRINDADE\"')"
   ]
  },
  {
   "cell_type": "code",
   "execution_count": 28,
   "metadata": {},
   "outputs": [],
   "source": [
    "# Drop the rows that are exceptions.\n",
    "df.drop([48754, 75199, 48765], axis=0, inplace=True)"
   ]
  },
  {
   "cell_type": "markdown",
   "metadata": {},
   "source": [
    "<div style=\"text-align: right\">\n",
    "    <ul>\n",
    "    <a href=\"#contents\">Back to Table of Contents </a>\n",
    "    </ul>\n",
    "</div>\n",
    "\n",
    "\n",
    "<a id='eda'></a>\n",
    "## Exploratory Data Analysis\n",
    "\n",
    "In this section, we will explore the mean values of all the factors that might predict the attendance rate. \n",
    "\n",
    "However, to make better use of the available data, we will include the number of days left before the appointment. This will be calculated by subtracting the scheduled_day values from the appointment_day values. Hopefully, this will give us an additional factor to better predict a higher attendance rate."
   ]
  },
  {
   "cell_type": "markdown",
   "metadata": {},
   "source": [
    "#### Calculate the average number of days remaining from the scheduled day to the appointment day and insert the results into a new column 'days_to_appointment'.\n",
    "\n",
    "The column 'days_to_appointment' will contain the number of days left from the day it was booked to the day the patient needs to show up at the clinic. Zero days means same-day appointments."
   ]
  },
  {
   "cell_type": "code",
   "execution_count": 29,
   "metadata": {},
   "outputs": [],
   "source": [
    "# Calculate the difference between the appointment day and the scheduled day. The result to be added to a new column.is \n",
    "df['days_to_appointment'] = ((df['appointment_day'] - df['scheduled_day']).astype('timedelta64[D]')).astype(int) # Convert to show only the number of days"
   ]
  },
  {
   "cell_type": "code",
   "execution_count": 30,
   "metadata": {
    "scrolled": false
   },
   "outputs": [
    {
     "data": {
      "text/plain": [
       "dtype('int64')"
      ]
     },
     "execution_count": 30,
     "metadata": {},
     "output_type": "execute_result"
    }
   ],
   "source": [
    "# Check the data type\n",
    "df.days_to_appointment.dtype"
   ]
  },
  {
   "cell_type": "code",
   "execution_count": 31,
   "metadata": {},
   "outputs": [],
   "source": [
    "# Remove the patient_id and appointment_id columns as these contain personalised \n",
    "# data that is out of the scope of this analysis.\n",
    "df.drop(['patient_id', 'appointment_id'], axis=1, inplace=True)"
   ]
  },
  {
   "cell_type": "markdown",
   "metadata": {},
   "source": [
    "<div style=\"text-align: right\">\n",
    "    <ul>\n",
    "    <a href=\"#contents\">Back to Table of Contents </a>\n",
    "    </ul>\n",
    "</div>\n",
    "\n",
    "<a id='question 1'></a>\n",
    "### Research Question 1: How do the two patient characteristics (scholarship and received SMS) compare between the patients who received each of them and those who didn't?"
   ]
  },
  {
   "cell_type": "markdown",
   "metadata": {},
   "source": [
    "To explore the answer to this question, we need to organise the data  so that we could calculate the percentage of the patients with and without scholarship and SMS received."
   ]
  },
  {
   "cell_type": "code",
   "execution_count": 32,
   "metadata": {},
   "outputs": [
    {
     "data": {
      "text/plain": [
       "sms_received  attended\n",
       "0             0           0.166993\n",
       "              1           0.833007\n",
       "1             0           0.275762\n",
       "              1           0.724238\n",
       "Name: %sms_received, dtype: float64"
      ]
     },
     "execution_count": 32,
     "metadata": {},
     "output_type": "execute_result"
    }
   ],
   "source": [
    "# Count groupby with rename() and transform() with lambda functions.\n",
    "df_sms=df.groupby(['sms_received', 'attended'])['attended'].count().rename(\"%sms_received\").groupby(level = 0).transform(lambda x: x/x.sum())\n",
    "# Check the data\n",
    "df_sms"
   ]
  },
  {
   "cell_type": "code",
   "execution_count": 33,
   "metadata": {},
   "outputs": [
    {
     "data": {
      "text/plain": [
       "scholarship  attended\n",
       "0            0           0.198041\n",
       "             1           0.801959\n",
       "1            0           0.237429\n",
       "             1           0.762571\n",
       "Name: %scholarship, dtype: float64"
      ]
     },
     "execution_count": 33,
     "metadata": {},
     "output_type": "execute_result"
    }
   ],
   "source": [
    "# Count groupby with rename() and transform() with lambda functions.\n",
    "df_scholar=df.groupby(['scholarship', 'attended'])['attended'].count().rename(\"%scholarship\").groupby(level = 0).transform(lambda x: x/x.sum())\n",
    "# Check the data\n",
    "df_scholar"
   ]
  },
  {
   "cell_type": "markdown",
   "metadata": {},
   "source": [
    "At this point, we can see that in both cases the percentage of patients who attended without receiving SMS or having a scholarship is greater than the ones who did have any of them. \n",
    "\n",
    "It is worth mentioning that we are looking at patients who only have one of the characteristics, despite the fact that the observations are combined. Analysing the patients who have both of the characteristics is not the scope of this project. Therefore, even if both characteristics are mentioned, the attendance rate is considered individually. \n",
    "\n",
    "For a better understanding, we will explore the above through bar charts."
   ]
  },
  {
   "cell_type": "markdown",
   "metadata": {},
   "source": [
    "#### Creating visuals for question 1"
   ]
  },
  {
   "cell_type": "code",
   "execution_count": 34,
   "metadata": {},
   "outputs": [],
   "source": [
    "# Defining a function to help with repetitive codes\n",
    "def pathstroke():\n",
    "    '''\n",
    "    docstring: Creat visual effects for plot labels to be used to define path_effects values inside the plot's parameters.\n",
    "    input: None\n",
    "    output: Stroke contour effects colour blue applied to a black font.\n",
    "    '''\n",
    "    [pe.Stroke(linewidth=0.2, foreground='k'),pe.Normal()]"
   ]
  },
  {
   "cell_type": "code",
   "execution_count": 35,
   "metadata": {},
   "outputs": [],
   "source": [
    "def myBar(df,X=['Not Attended', 'Attended'], title=''):\n",
    "    ''''\n",
    "    docstring: Create a bar plot with 4 bars that overlap.\n",
    "    input: dataframe, 'column name'\n",
    "    export:\n",
    "    '''\n",
    "    # Set the plot dimensions\n",
    "    plt.figure(figsize=[5,5])\n",
    "    # Set general font size\n",
    "    plt.rcParams['font.size'] = '12'\n",
    "    # 1st bar chart\n",
    "    plt.bar(X, df[0:2]*100, color='g',width=0.8, align='center') # multiply by 100 to transform into percentage\n",
    "    # 2nd bar chart\n",
    "    plt.bar(X, df[2:4]*100, color='b', alpha=.8, width=.6, align='center') # multiply by 100 to transform into percentage\n",
    "    # Add x label and format it\n",
    "    plt.xlabel(\"Attended Status\", size=12, color='C0', path_effects=pathstroke())\n",
    "    # Add y label and format it\n",
    "    plt.ylabel(f\"Percentage of {title}\", size=12, color='C0', path_effects=pathstroke())\n",
    "    # Add title and format it\n",
    "    plt.title(f\"Percentage of {title} by Attended Status\", size=14, color='C0', path_effects=pathstroke())\n",
    "    # Add keys to the chart\n",
    "    plt.legend([f\"No {title}\",f\"{title}\"])"
   ]
  },
  {
   "cell_type": "markdown",
   "metadata": {},
   "source": [
    "Now, by using the myBar function, we can visualise the data regarding the attendance rate of the ones with and without scholarship/receiving SMS.\n",
    "\n",
    "We will use two distinct colours, green and blue to mark the data. Also, the bar charts with the same info (attendance rate) will be overlayed in an attempt to produce a better understanding."
   ]
  },
  {
   "cell_type": "code",
   "execution_count": 36,
   "metadata": {
    "scrolled": true
   },
   "outputs": [
    {
     "data": {
      "image/png": "[encoded data removed]",
      "text/plain": [
       "<matplotlib.figure.Figure at 0x7fac4f03e390>"
      ]
     },
     "metadata": {
      "needs_background": "light"
     },
     "output_type": "display_data"
    }
   ],
   "source": [
    "myBar(df_sms, title='SMS Received')"
   ]
  },
  {
   "cell_type": "markdown",
   "metadata": {},
   "source": [
    "We can see that the patients who did not receive an SMS had a higher rate of attendance than the ones who did. Therefore, probably receiving an SMS is not an important factor in raising the attendance rate. However, due to the limitations associated with the available information, we can't make a definitive statement. More details are in the Limitation section.\n",
    "\n",
    "Next we will look at the scholarship data based on the attendance rate."
   ]
  },
  {
   "cell_type": "code",
   "execution_count": 37,
   "metadata": {
    "scrolled": true
   },
   "outputs": [
    {
     "data": {
      "image/png": "[encoded data removed]",
      "text/plain": [
       "<matplotlib.figure.Figure at 0x7fac4f03e7b8>"
      ]
     },
     "metadata": {
      "needs_background": "light"
     },
     "output_type": "display_data"
    }
   ],
   "source": [
    "# Produce a bar chart using scholarship data\n",
    "myBar(df_scholar, title='Scholarships')"
   ]
  },
  {
   "cell_type": "markdown",
   "metadata": {},
   "source": [
    "We can see that those who received scholarships have slightly worse attendance rate than the ones who did not receive one. \n",
    "\n",
    "Around 25% of patients with a scholarship will miss an appointment whilst 20% of the patients without a scholarship will miss an appointment.\n",
    "\n",
    "However, we can observe at least on limitation associated with the current data. Simalarly to the above, previous history of attendance is unknown. More details in the Limitations section."
   ]
  },
  {
   "cell_type": "markdown",
   "metadata": {},
   "source": [
    "<a id='wrangling'></a>\n",
    "    \n",
    "<div style=\"text-align: right\">\n",
    "    <ul>\n",
    "    <a href=\"#contents\">Back to Table of Contents </a>\n",
    "    </ul>\n",
    "</div>\n",
    "\n",
    "<a id='question 2'></a>\n",
    "### Research Question 2 - What are the factors that influence the clinics in the neighbourhoods with a high attendance rate?"
   ]
  },
  {
   "cell_type": "code",
   "execution_count": 38,
   "metadata": {},
   "outputs": [],
   "source": [
    "def myBarPlot(df,xVar, title=''):\n",
    "    '''\n",
    "    docstring: Create a bar plot to represent average values of various characteristics.\n",
    "    inputs: dataframe, 'column name', bar=False/True, title='additional text'\n",
    "    output: a bar plot with an optional plot line to link the top of the bars\n",
    "    '''\n",
    "    # Set plot dimensions\n",
    "    plt.figure(figsize=[14,6])\n",
    "    # Set general font size\n",
    "    plt.rcParams['font.size'] = '18'\n",
    "    # Add a plot line to link the bars\n",
    "    plt.plot(df[xVar].index,df[xVar], color='w', lw=4, path_effects=[pe.Stroke(linewidth=7, foreground='k'), pe.Normal()])\n",
    "    # Plot\n",
    "    plt.bar(df[xVar].index, df[xVar], label=xVar,tick_label=['Lowest 25%', 'Highest 25%'])\n",
    "    # Set y limit\n",
    "    plt.ylim(df[xVar].min()*0.95)  \n",
    "    # Add x label and format it\n",
    "    plt.xlabel(f\"{title}\", size=20, color='C0', path_effects=pathstroke())\n",
    "    # Add y label and format it\n",
    "    plt.ylabel(f\"Average {xVar}\".replace('_',' ').title(), size=20, color='C0',path_effects=pathstroke())\n",
    "    # Add title and format it\n",
    "    plt.title(f\"Average {xVar} by {title}\".title().replace('_',' '), size=20, color='C0', path_effects=pathstroke())\n",
    "    # Set x ticks font size\n",
    "    plt.xticks(fontsize=18)\n",
    "    \n",
    "    "
   ]
  },
  {
   "cell_type": "code",
   "execution_count": 39,
   "metadata": {
    "scrolled": false
   },
   "outputs": [
    {
     "data": {
      "text/html": [
       "<div>\n",
       "<style scoped>\n",
       "    .dataframe tbody tr th:only-of-type {\n",
       "        vertical-align: middle;\n",
       "    }\n",
       "\n",
       "    .dataframe tbody tr th {\n",
       "        vertical-align: top;\n",
       "    }\n",
       "\n",
       "    .dataframe thead th {\n",
       "        text-align: right;\n",
       "    }\n",
       "</style>\n",
       "<table border=\"1\" class=\"dataframe\">\n",
       "  <thead>\n",
       "    <tr style=\"text-align: right;\">\n",
       "      <th></th>\n",
       "      <th>age</th>\n",
       "      <th>scholarship</th>\n",
       "      <th>hypertension</th>\n",
       "      <th>diabetes</th>\n",
       "      <th>alcoholism</th>\n",
       "      <th>handicap</th>\n",
       "      <th>sms_received</th>\n",
       "      <th>attended</th>\n",
       "      <th>days_to_appointment</th>\n",
       "    </tr>\n",
       "    <tr>\n",
       "      <th>neighbourhood</th>\n",
       "      <th></th>\n",
       "      <th></th>\n",
       "      <th></th>\n",
       "      <th></th>\n",
       "      <th></th>\n",
       "      <th></th>\n",
       "      <th></th>\n",
       "      <th></th>\n",
       "      <th></th>\n",
       "    </tr>\n",
       "  </thead>\n",
       "  <tbody>\n",
       "    <tr>\n",
       "      <th>AEROPORTO</th>\n",
       "      <td>53.125</td>\n",
       "      <td>0.0</td>\n",
       "      <td>0.25</td>\n",
       "      <td>0.0</td>\n",
       "      <td>0.0</td>\n",
       "      <td>0.0</td>\n",
       "      <td>0.125</td>\n",
       "      <td>0.875</td>\n",
       "      <td>14.75</td>\n",
       "    </tr>\n",
       "  </tbody>\n",
       "</table>\n",
       "</div>"
      ],
      "text/plain": [
       "                  age  scholarship  hypertension  diabetes  alcoholism  \\\n",
       "neighbourhood                                                            \n",
       "AEROPORTO      53.125          0.0          0.25       0.0         0.0   \n",
       "\n",
       "               handicap  sms_received  attended  days_to_appointment  \n",
       "neighbourhood                                                         \n",
       "AEROPORTO           0.0         0.125     0.875                14.75  "
      ]
     },
     "execution_count": 39,
     "metadata": {},
     "output_type": "execute_result"
    }
   ],
   "source": [
    "# Group the data by neighbourhood and find out the mean values\n",
    "df_nhood = df.groupby('neighbourhood').mean()\n",
    "df_nhood.head(1)"
   ]
  },
  {
   "cell_type": "code",
   "execution_count": 40,
   "metadata": {},
   "outputs": [
    {
     "data": {
      "text/html": [
       "<div>\n",
       "<style scoped>\n",
       "    .dataframe tbody tr th:only-of-type {\n",
       "        vertical-align: middle;\n",
       "    }\n",
       "\n",
       "    .dataframe tbody tr th {\n",
       "        vertical-align: top;\n",
       "    }\n",
       "\n",
       "    .dataframe thead th {\n",
       "        text-align: right;\n",
       "    }\n",
       "</style>\n",
       "<table border=\"1\" class=\"dataframe\">\n",
       "  <thead>\n",
       "    <tr style=\"text-align: right;\">\n",
       "      <th></th>\n",
       "      <th>age</th>\n",
       "      <th>scholarship</th>\n",
       "      <th>hypertension</th>\n",
       "      <th>diabetes</th>\n",
       "      <th>alcoholism</th>\n",
       "      <th>handicap</th>\n",
       "      <th>sms_received</th>\n",
       "      <th>attended</th>\n",
       "      <th>days_to_appointment</th>\n",
       "      <th>attendance_rate</th>\n",
       "    </tr>\n",
       "    <tr>\n",
       "      <th>neighbourhood</th>\n",
       "      <th></th>\n",
       "      <th></th>\n",
       "      <th></th>\n",
       "      <th></th>\n",
       "      <th></th>\n",
       "      <th></th>\n",
       "      <th></th>\n",
       "      <th></th>\n",
       "      <th></th>\n",
       "      <th></th>\n",
       "    </tr>\n",
       "  </thead>\n",
       "  <tbody>\n",
       "    <tr>\n",
       "      <th>AEROPORTO</th>\n",
       "      <td>53.125000</td>\n",
       "      <td>0.000000</td>\n",
       "      <td>0.250000</td>\n",
       "      <td>0.000000</td>\n",
       "      <td>0.000000</td>\n",
       "      <td>0.000000</td>\n",
       "      <td>0.125000</td>\n",
       "      <td>0.875000</td>\n",
       "      <td>14.750000</td>\n",
       "      <td>High</td>\n",
       "    </tr>\n",
       "    <tr>\n",
       "      <th>ANDORINHAS</th>\n",
       "      <td>36.106101</td>\n",
       "      <td>0.142794</td>\n",
       "      <td>0.259063</td>\n",
       "      <td>0.132184</td>\n",
       "      <td>0.022989</td>\n",
       "      <td>0.040230</td>\n",
       "      <td>0.250663</td>\n",
       "      <td>0.769673</td>\n",
       "      <td>8.763926</td>\n",
       "      <td>Low</td>\n",
       "    </tr>\n",
       "    <tr>\n",
       "      <th>ANTÔNIO HONÓRIO</th>\n",
       "      <td>36.845018</td>\n",
       "      <td>0.051661</td>\n",
       "      <td>0.018450</td>\n",
       "      <td>0.011070</td>\n",
       "      <td>0.000000</td>\n",
       "      <td>0.003690</td>\n",
       "      <td>0.343173</td>\n",
       "      <td>0.815498</td>\n",
       "      <td>13.656827</td>\n",
       "      <td>Moderately High</td>\n",
       "    </tr>\n",
       "    <tr>\n",
       "      <th>ARIOVALDO FAVALESSA</th>\n",
       "      <td>32.480144</td>\n",
       "      <td>0.187726</td>\n",
       "      <td>0.122744</td>\n",
       "      <td>0.068592</td>\n",
       "      <td>0.050542</td>\n",
       "      <td>0.036101</td>\n",
       "      <td>0.202166</td>\n",
       "      <td>0.776173</td>\n",
       "      <td>7.173285</td>\n",
       "      <td>Low</td>\n",
       "    </tr>\n",
       "    <tr>\n",
       "      <th>BARRO VERMELHO</th>\n",
       "      <td>45.040189</td>\n",
       "      <td>0.000000</td>\n",
       "      <td>0.134752</td>\n",
       "      <td>0.054374</td>\n",
       "      <td>0.004728</td>\n",
       "      <td>0.014184</td>\n",
       "      <td>0.338061</td>\n",
       "      <td>0.784870</td>\n",
       "      <td>7.342790</td>\n",
       "      <td>Medium</td>\n",
       "    </tr>\n",
       "  </tbody>\n",
       "</table>\n",
       "</div>"
      ],
      "text/plain": [
       "                           age  scholarship  hypertension  diabetes  \\\n",
       "neighbourhood                                                         \n",
       "AEROPORTO            53.125000     0.000000      0.250000  0.000000   \n",
       "ANDORINHAS           36.106101     0.142794      0.259063  0.132184   \n",
       "ANTÔNIO HONÓRIO      36.845018     0.051661      0.018450  0.011070   \n",
       "ARIOVALDO FAVALESSA  32.480144     0.187726      0.122744  0.068592   \n",
       "BARRO VERMELHO       45.040189     0.000000      0.134752  0.054374   \n",
       "\n",
       "                     alcoholism  handicap  sms_received  attended  \\\n",
       "neighbourhood                                                       \n",
       "AEROPORTO              0.000000  0.000000      0.125000  0.875000   \n",
       "ANDORINHAS             0.022989  0.040230      0.250663  0.769673   \n",
       "ANTÔNIO HONÓRIO        0.000000  0.003690      0.343173  0.815498   \n",
       "ARIOVALDO FAVALESSA    0.050542  0.036101      0.202166  0.776173   \n",
       "BARRO VERMELHO         0.004728  0.014184      0.338061  0.784870   \n",
       "\n",
       "                     days_to_appointment  attendance_rate  \n",
       "neighbourhood                                              \n",
       "AEROPORTO                      14.750000             High  \n",
       "ANDORINHAS                      8.763926              Low  \n",
       "ANTÔNIO HONÓRIO                13.656827  Moderately High  \n",
       "ARIOVALDO FAVALESSA             7.173285              Low  \n",
       "BARRO VERMELHO                  7.342790           Medium  "
      ]
     },
     "execution_count": 40,
     "metadata": {},
     "output_type": "execute_result"
    }
   ],
   "source": [
    "# Cut attended data into a new column 'attendance_rate' by the average values in the attended column.\n",
    "# Cut data will be placed into four categories: Low, Medium, Moderately High and High.\n",
    "df_nhood['attendance_rate'] = pd.qcut(df_nhood['attended'], 4, ['Low', 'Medium', 'Moderately High', 'High'])\n",
    "df_nhood.head()"
   ]
  },
  {
   "cell_type": "code",
   "execution_count": 41,
   "metadata": {
    "scrolled": true
   },
   "outputs": [
    {
     "data": {
      "text/plain": [
       "age                    0\n",
       "scholarship            0\n",
       "hypertension           0\n",
       "diabetes               0\n",
       "alcoholism             0\n",
       "handicap               0\n",
       "sms_received           0\n",
       "attended               0\n",
       "days_to_appointment    0\n",
       "attendance_rate        0\n",
       "dtype: int64"
      ]
     },
     "execution_count": 41,
     "metadata": {},
     "output_type": "execute_result"
    }
   ],
   "source": [
    "# Check the data for null values.\n",
    "df_nhood.isnull().sum()"
   ]
  },
  {
   "cell_type": "code",
   "execution_count": 42,
   "metadata": {
    "scrolled": true
   },
   "outputs": [],
   "source": [
    "# Group data by low and high attendance rates to compare the characteristics of the two.\n",
    "df_mean = df_nhood.groupby('attendance_rate', as_index=False).mean().query('attendance_rate == [\"Low\",\"High\"]')\n",
    "df_mean.reset_index(drop=True, inplace=True)\n",
    "df_mean.drop(['attendance_rate', 'attended'], axis=1, inplace=True)"
   ]
  },
  {
   "cell_type": "code",
   "execution_count": 43,
   "metadata": {
    "scrolled": true
   },
   "outputs": [
    {
     "data": {
      "text/plain": [
       "Index(['age', 'scholarship', 'hypertension', 'diabetes', 'alcoholism',\n",
       "       'handicap', 'sms_received', 'days_to_appointment'],\n",
       "      dtype='object')"
      ]
     },
     "execution_count": 43,
     "metadata": {},
     "output_type": "execute_result"
    }
   ],
   "source": [
    "list_column = df_mean.columns.unique()\n",
    "list_column"
   ]
  },
  {
   "cell_type": "code",
   "execution_count": 44,
   "metadata": {},
   "outputs": [
    {
     "data": {
      "text/html": [
       "<div>\n",
       "<style scoped>\n",
       "    .dataframe tbody tr th:only-of-type {\n",
       "        vertical-align: middle;\n",
       "    }\n",
       "\n",
       "    .dataframe tbody tr th {\n",
       "        vertical-align: top;\n",
       "    }\n",
       "\n",
       "    .dataframe thead th {\n",
       "        text-align: right;\n",
       "    }\n",
       "</style>\n",
       "<table border=\"1\" class=\"dataframe\">\n",
       "  <thead>\n",
       "    <tr style=\"text-align: right;\">\n",
       "      <th></th>\n",
       "      <th>age</th>\n",
       "      <th>scholarship</th>\n",
       "      <th>hypertension</th>\n",
       "      <th>diabetes</th>\n",
       "      <th>alcoholism</th>\n",
       "      <th>handicap</th>\n",
       "      <th>sms_received</th>\n",
       "      <th>days_to_appointment</th>\n",
       "    </tr>\n",
       "  </thead>\n",
       "  <tbody>\n",
       "    <tr>\n",
       "      <th>0</th>\n",
       "      <td>36.83872</td>\n",
       "      <td>0.122110</td>\n",
       "      <td>0.234322</td>\n",
       "      <td>0.080006</td>\n",
       "      <td>0.036179</td>\n",
       "      <td>0.029156</td>\n",
       "      <td>0.320542</td>\n",
       "      <td>10.321110</td>\n",
       "    </tr>\n",
       "    <tr>\n",
       "      <th>1</th>\n",
       "      <td>40.15867</td>\n",
       "      <td>0.066447</td>\n",
       "      <td>0.198183</td>\n",
       "      <td>0.070522</td>\n",
       "      <td>0.021716</td>\n",
       "      <td>0.029143</td>\n",
       "      <td>0.315502</td>\n",
       "      <td>9.105819</td>\n",
       "    </tr>\n",
       "  </tbody>\n",
       "</table>\n",
       "</div>"
      ],
      "text/plain": [
       "        age  scholarship  hypertension  diabetes  alcoholism  handicap  \\\n",
       "0  36.83872     0.122110      0.234322  0.080006    0.036179  0.029156   \n",
       "1  40.15867     0.066447      0.198183  0.070522    0.021716  0.029143   \n",
       "\n",
       "   sms_received  days_to_appointment  \n",
       "0      0.320542            10.321110  \n",
       "1      0.315502             9.105819  "
      ]
     },
     "execution_count": 44,
     "metadata": {},
     "output_type": "execute_result"
    }
   ],
   "source": [
    "df_mean"
   ]
  },
  {
   "cell_type": "markdown",
   "metadata": {
    "slideshow": {
     "slide_type": "-"
    }
   },
   "source": [
    "#### Creating the visuals for question 2"
   ]
  },
  {
   "cell_type": "code",
   "execution_count": 45,
   "metadata": {
    "scrolled": false
   },
   "outputs": [
    {
     "data": {
      "image/png": "[encoded data removed]",
      "text/plain": [
       "<matplotlib.figure.Figure at 0x7fac4e8839b0>"
      ]
     },
     "metadata": {
      "needs_background": "light"
     },
     "output_type": "display_data"
    },
    {
     "data": {
      "image/png": "[encoded data removed]",
      "text/plain": [
       "<matplotlib.figure.Figure at 0x7fac4e8a69e8>"
      ]
     },
     "metadata": {
      "needs_background": "light"
     },
     "output_type": "display_data"
    },
    {
     "data": {
      "image/png": "[encoded data removed]",
      "text/plain": [
       "<matplotlib.figure.Figure at 0x7fac4e827630>"
      ]
     },
     "metadata": {
      "needs_background": "light"
     },
     "output_type": "display_data"
    },
    {
     "data": {
      "image/png": "[encoded data removed]",
      "text/plain": [
       "<matplotlib.figure.Figure at 0x7fac4f012c18>"
      ]
     },
     "metadata": {
      "needs_background": "light"
     },
     "output_type": "display_data"
    },
    {
     "data": {
      "image/png": "[encoded data removed]",
      "text/plain": [
       "<matplotlib.figure.Figure at 0x7fac4e7e1f28>"
      ]
     },
     "metadata": {
      "needs_background": "light"
     },
     "output_type": "display_data"
    },
    {
     "data": {
      "image/png": "[encoded data removed]",
      "text/plain": [
       "<matplotlib.figure.Figure at 0x7fac4e7aad68>"
      ]
     },
     "metadata": {
      "needs_background": "light"
     },
     "output_type": "display_data"
    },
    {
     "data": {
      "image/png": "[encoded data removed]",
      "text/plain": [
       "<matplotlib.figure.Figure at 0x7fac4e7c9748>"
      ]
     },
     "metadata": {
      "needs_background": "light"
     },
     "output_type": "display_data"
    },
    {
     "data": {
      "image/png": "[encoded data removed]",
      "text/plain": [
       "<matplotlib.figure.Figure at 0x7fac4e792978>"
      ]
     },
     "metadata": {
      "needs_background": "light"
     },
     "output_type": "display_data"
    }
   ],
   "source": [
    "# Create visuals by iterating through the column list \n",
    "for c in list_column:\n",
    "    myBarPlot(df_mean, c, title='Neighbourhood Attendance')"
   ]
  },
  {
   "cell_type": "markdown",
   "metadata": {},
   "source": [
    "We can see that this particular approach of visualising all of the characteristics in one go, helps us navigate through the bar charts with ease. \n",
    "\n",
    "An interesting feature of the data is that the neighbourhoods with 75% higher attendance tend to score lower average values of the patient's characteristics, such as having fewer scholarships and being less affected by alcoholism. These two are the characteristic that portrays the biggest difference between the two categories of neighbourhoods. \n",
    "\n",
    "More details are revealed in the conclusion section."
   ]
  },
  {
   "cell_type": "code",
   "execution_count": 46,
   "metadata": {},
   "outputs": [],
   "source": [
    "# Define a function to show the percentage change of the attended data\n",
    "def myPChange(df, xVar):\n",
    "    '''\n",
    "    docstring: Calculate the percentage change from the previous value\n",
    "    inputs: dataframe,'column name'\n",
    "    output: 2nd float value showing percentage change from previous value \n",
    "    '''\n",
    "    print(df[xVar].pct_change().iloc[[1]])"
   ]
  },
  {
   "cell_type": "code",
   "execution_count": 47,
   "metadata": {},
   "outputs": [
    {
     "name": "stdout",
     "output_type": "stream",
     "text": [
      "1    0.090121\n",
      "Name: age, dtype: float64\n",
      "1   -0.455846\n",
      "Name: scholarship, dtype: float64\n",
      "1   -0.15423\n",
      "Name: hypertension, dtype: float64\n",
      "1   -0.118539\n",
      "Name: diabetes, dtype: float64\n",
      "1   -0.399756\n",
      "Name: alcoholism, dtype: float64\n",
      "1   -0.000445\n",
      "Name: handicap, dtype: float64\n",
      "1   -0.015725\n",
      "Name: sms_received, dtype: float64\n",
      "1   -0.117748\n",
      "Name: days_to_appointment, dtype: float64\n"
     ]
    }
   ],
   "source": [
    "# Show percentage change by iterating through the column list \n",
    "for c in list_column:\n",
    "    myPChange(df_mean, c)"
   ]
  },
  {
   "cell_type": "markdown",
   "metadata": {},
   "source": [
    "As mentioned above, the biggest difference between the neighbourhood with the highest 75% attendance rate compared to the ones with the lowest 25% is in the scholarships and alcoholism. "
   ]
  },
  {
   "cell_type": "markdown",
   "metadata": {},
   "source": [
    "<div style=\"text-align: right\">\n",
    "    <ul>\n",
    "    <a href=\"#contents\">Back to Table of Contents </a>\n",
    "    </ul>\n",
    "</div>\n",
    "\n",
    "<a id='conclusions'></a>\n",
    "## Conclusions\n",
    "\n",
    "At this stage, we can split the conclusions into two groups based on:\n",
    "\n",
    "1. How do the two patient characteristics (scholarship and received SMS) compare between the patients who received each of them and those who didn't?\n",
    "2. Determinant characteristics at the neighbourhood clinics based on four levels of attendance; \n",
    "\n",
    "In the first part, the results of the data comparison between the patients who received an SMS and attended their appointments and the ones who didn't show us that receiving an SMS is not necessarily a determinant factor to increase the attendance rate. Almost 30% of patients who received an SMS did miss their appointment whilst almost 20% of patients who did not receive an SMS missed their appointment. \n",
    "\n",
    "Equally, having a scholarship did not prove to be a determinant factor as well. Around 25% of patients with a scholarship will miss an appointment whilst 20% of the patients without a scholarship will miss an appointment.\n",
    "\n",
    "On the other hand, in the second part of this analysis, the data was grouped slightly different. We saw the comparison between the neighbourhoods with a lower 25% attendance rate and the ones with a higher 75% one. This comparison revealed the following characteristics for the patients of the latter category:\n",
    "\n",
    "- are older by 9%;\n",
    "- have been awarded fewer scholarships by 45%;\n",
    "- have a lower rate of hypertension by 15%;\n",
    "- are less affected by diabetes by 11%;\n",
    "- are less affected by alcoholism by almost 40%;\n",
    "- no significant difference in handicap;\n",
    "- no significant difference in the number of SMS received;\n",
    "- have booked the appointment in advance by 11% fewer days.\n",
    "\n",
    "At this point, compiling the information from both questions we can sketch the conclusions around the points:\n",
    "\n",
    "- Age is not a determinant factor related to attendance rate;\n",
    "- Scholarship is an important factor to influence the attendance rate: those with fewer will attend more;\n",
    "- Hypertension will relatively predict who will generally attend an appointment, however, based on the patient's neighbourhood, some factors will influence patients to miss more of their appointments.\n",
    "- Diabetes is a relatively important predictor of a patient attending the appointment, however, this is dependent on other factors related to each particular neighbourhood;\n",
    "- Alcoholism is not an overall predictor of attendance, however, based on particular neighbourhoods, patients that are not affected by alcoholism will attend more;\n",
    "- Handicap is not a determinant factor related to attendance rate;\n",
    "- SMS received are not of extreme importance in predicting the attendance rate;\n",
    "- Booking the appointment in advance is an important factor that predicts the attendance rate by a high margin.\n",
    "\n"
   ]
  },
  {
   "cell_type": "markdown",
   "metadata": {},
   "source": [
    "<div style=\"text-align: right\">\n",
    "    <ul>\n",
    "    <a href=\"#contents\">Back to Table of Contents </a>\n",
    "    </ul>\n",
    "</div>\n",
    "\n",
    "<a id='limitations'></a>\n",
    "### Limitations\n",
    "\n",
    "In addition, it is important to mention, that the conclusions related to some of the characteristics could have been more accurate with an additional column that shows if the appointment has been rescheduled or cancelled. Also, attended information could further be split into two: 'attended with no reschedule' and 'attended following x reschedules'.\n",
    "\n",
    "Also, we saw limitations related to the reason behind an SMS being sent to a specific patient. This would have helped us when we were interpreting the data of patients who received an SMS but did not attend the appointment compared with those who also received the SMS, but attended the appointment. For example, if the clinics will send an SMS because a patient has a history of missing appointments, then a new group is delineated and namely patients with a tendency to miss appointments. Around a 70% attendance rate would be considered a great success. \n",
    "\n",
    "Similarly to the above, previous history of attendance would have been useful to better understand the impact of scholarships on the patient's attendance rate. Since this information is missing, we can't tell for sure if missing an appointment was due to a financial issue that the patient had, which would require working more hours per day, or not."
   ]
  },
  {
   "cell_type": "markdown",
   "metadata": {},
   "source": [
    "<div style=\"text-align: right\">\n",
    "    <ul>\n",
    "    <a href=\"#contents\">Back to Table of Contents </a>\n",
    "    </ul>\n",
    "</div>\n",
    "\n",
    "<a id='manythanks'></a>\n",
    "\n",
    "# Many thanks to the reviewer!!! \n",
    "\n",
    "Your guidance has taught me to go beyond my limits (especially the ones related to writing functions). Thank you ever so much for being so awesome!!!"
   ]
  },
  {
   "cell_type": "code",
   "execution_count": 48,
   "metadata": {
    "scrolled": true
   },
   "outputs": [
    {
     "data": {
      "text/plain": [
       "0"
      ]
     },
     "execution_count": 48,
     "metadata": {},
     "output_type": "execute_result"
    }
   ],
   "source": [
    "from subprocess import call\n",
    "call(['python', '-m', 'nbconvert', 'Investigate_a_Dataset.ipynb'])"
   ]
  },
  {
   "cell_type": "code",
   "execution_count": null,
   "metadata": {},
   "outputs": [],
   "source": []
  }
 ],
 "metadata": {
  "kernelspec": {
   "display_name": "Python 3",
   "language": "python",
   "name": "python3"
  },
  "language_info": {
   "codemirror_mode": {
    "name": "ipython",
    "version": 3
   },
   "file_extension": ".py",
   "mimetype": "text/x-python",
   "name": "python",
   "nbconvert_exporter": "python",
   "pygments_lexer": "ipython3",
   "version": "3.6.3"
  }
 },
 "nbformat": 4,
 "nbformat_minor": 2
}
